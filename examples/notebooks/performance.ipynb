{
 "cells": [
  {
   "cell_type": "markdown",
   "metadata": {},
   "source": [
    "# Performance\n",
    "\n",
    "This notebook measures performance of `DiscreteEvents.jl` functionality in order to compile the [performance section](https://pbayer.github.io/DiscreteEvents.jl/dev/performance/) of the documentation."
   ]
  },
  {
   "cell_type": "code",
   "execution_count": 1,
   "metadata": {},
   "outputs": [
    {
     "name": "stderr",
     "output_type": "stream",
     "text": [
      "┌ Info: Precompiling BenchmarkTools [6e4b80f9-dd63-53aa-95a3-0cdb28fa8baf]\n",
      "└ @ Base loading.jl:1278\n"
     ]
    }
   ],
   "source": [
    "using DiscreteEvents, BenchmarkTools, Random\n",
    "res = Dict(); # results dictionary"
   ]
  },
  {
   "cell_type": "markdown",
   "metadata": {},
   "source": [
    "## Event-based simulations"
   ]
  },
  {
   "cell_type": "markdown",
   "metadata": {},
   "source": [
    "The following is a modification of the [channel example](https://pbayer.github.io/DiscreteEvents.jl/dev/approach/#Event-based-modeling-1). We simulate events \n",
    "\n",
    "1. taking something from a common channel or waiting if there is nothing, \n",
    "2. then taking a delay, doing a calculation and\n",
    "3. returning three times to the first step.\n",
    "\n",
    "As calculation we take the following Machin-like sum:\n",
    "\n",
    "$$4 \\sum_{k=1}^{n} \\frac{(-1)^{k+1}}{2 k - 1}$$\n",
    "\n",
    "This gives a slow approximation to $\\pi$. The benchmark creates long queues of timed and conditional events and measures how fast they are handled."
   ]
  },
  {
   "cell_type": "markdown",
   "metadata": {},
   "source": [
    "### Function calls as events\n",
    "\n",
    "The first implementation is based on events with `fun`s. "
   ]
  },
  {
   "cell_type": "code",
   "execution_count": 4,
   "metadata": {},
   "outputs": [
    {
     "data": {
      "text/plain": [
       "setup (generic function with 1 method)"
      ]
     },
     "execution_count": 4,
     "metadata": {},
     "output_type": "execute_result"
    }
   ],
   "source": [
    "function take(id::Int64, qpi::Vector{Float64}, step::Int64)\n",
    "    if isready(ch)\n",
    "        take!(ch)                                         # take something from common channel\n",
    "        event!(fun(put, id, qpi, step), after, rand())    # timed event after some time\n",
    "    else\n",
    "        event!(fun(take, id, qpi, step), fun(isready, ch)) # conditional event until channel is ready\n",
    "    end\n",
    "end\n",
    "\n",
    "function put(id::Int64, qpi::Vector{Float64}, step::Int64)\n",
    "    put!(ch, 1)\n",
    "    qpi[1] += (-1)^(id+1)/(2id -1)      # Machin-like series (slow approximation to pi)\n",
    "    step > 3 || take(id, qpi, step+1)\n",
    "end\n",
    "\n",
    "function setup(n::Int)                     # a setup the simulation\n",
    "    resetClock!(𝐶)\n",
    "    Random.seed!(123)\n",
    "    global ch = Channel{Int64}(32)  # create a channel\n",
    "    global qpi = [0.0]\n",
    "    si = shuffle(1:n)\n",
    "    for i in 1:n\n",
    "        take(si[i], qpi, 1)\n",
    "    end\n",
    "    for i in 1:min(n, 32)\n",
    "        put!(ch, 1) # put first tokens into channel 1\n",
    "    end\n",
    "end"
   ]
  },
  {
   "cell_type": "markdown",
   "metadata": {},
   "source": [
    "If we setup 250 summation elements, we get 1000 timed events and over 1438 sample steps with conditional events."
   ]
  },
  {
   "cell_type": "code",
   "execution_count": 5,
   "metadata": {},
   "outputs": [
    {
     "name": "stdout",
     "output_type": "stream",
     "text": [
      "  0.016450 seconds (21.52 k allocations: 1.044 MiB)\n",
      "  0.256077 seconds (472.22 k allocations: 25.350 MiB, 5.88% gc time)\n",
      "run! finished with 1000 clock events, 1468 sample steps, simulation time: 500.0\n",
      "result=3.137592669589458\n"
     ]
    }
   ],
   "source": [
    "@time setup(250)\n",
    "println(@time run!(𝐶, 500))\n",
    "println(\"result=\", qpi[1])"
   ]
  },
  {
   "cell_type": "code",
   "execution_count": 6,
   "metadata": {
    "scrolled": true
   },
   "outputs": [
    {
     "data": {
      "text/plain": [
       "BenchmarkTools.Trial: \n",
       "  memory estimate:  10.45 MiB\n",
       "  allocs estimate:  196603\n",
       "  --------------\n",
       "  minimum time:     26.848 ms (0.00% GC)\n",
       "  median time:      28.240 ms (0.00% GC)\n",
       "  mean time:        28.804 ms (2.21% GC)\n",
       "  maximum time:     40.416 ms (0.00% GC)\n",
       "  --------------\n",
       "  samples:          50\n",
       "  evals/sample:     1"
      ]
     },
     "execution_count": 6,
     "metadata": {},
     "output_type": "execute_result"
    }
   ],
   "source": [
    "t = run(@benchmarkable run!(𝐶, 500) setup=setup(250) evals=1 seconds=15.0 samples=50)"
   ]
  },
  {
   "cell_type": "code",
   "execution_count": 7,
   "metadata": {},
   "outputs": [
    {
     "data": {
      "text/plain": [
       "26.847644"
      ]
     },
     "execution_count": 7,
     "metadata": {},
     "output_type": "execute_result"
    }
   ],
   "source": [
    "res[\"Event based with fun\"] = minimum(t).time * 1e-6 # ms "
   ]
  },
  {
   "cell_type": "markdown",
   "metadata": {},
   "source": [
    "### Expressions as events\n",
    "\n",
    "The 2nd implementation does the same but with expressions, which are `eval`uated in global scope during runtime. This gives a one-time warning for beeing slow:"
   ]
  },
  {
   "cell_type": "code",
   "execution_count": 8,
   "metadata": {},
   "outputs": [
    {
     "data": {
      "text/plain": [
       "put (generic function with 1 method)"
      ]
     },
     "execution_count": 8,
     "metadata": {},
     "output_type": "execute_result"
    }
   ],
   "source": [
    "function take(id::Int64, qpi::Vector{Float64}, step::Int64)\n",
    "    if isready(ch)\n",
    "        take!(ch)                                            # take something from common channel\n",
    "        event!(:(put($id, qpi, $step)), after, rand())   # timed event after some time\n",
    "    else\n",
    "        event!(:(take($id, qpi, $step)), :(isready(ch))) # conditional event until channel is ready\n",
    "    end\n",
    "end\n",
    "\n",
    "function put(id::Int64, qpi::Vector{Float64}, step::Int64)\n",
    "    put!(ch, 1)\n",
    "    qpi[1] += (-1)^(id+1)/(2id -1)      # Machin-like series (slow approximation to pi)\n",
    "    step > 3 || take(id, qpi, step+1)\n",
    "end"
   ]
  },
  {
   "cell_type": "code",
   "execution_count": 9,
   "metadata": {},
   "outputs": [
    {
     "name": "stdout",
     "output_type": "stream",
     "text": [
      "  0.000083 seconds (1.54 k allocations: 92.047 KiB)\n"
     ]
    },
    {
     "name": "stderr",
     "output_type": "stream",
     "text": [
      "┌ Warning: Evaluating expressions is slow, use functions instead\n",
      "└ @ DiscreteEvents /Users/paul/.julia/packages/DiscreteEvents/SpY5t/src/fclosure.jl:28\n"
     ]
    },
    {
     "name": "stdout",
     "output_type": "stream",
     "text": [
      "  9.065884 seconds (6.04 M allocations: 382.416 MiB, 0.53% gc time)\n",
      "run! finished with 1000 clock events, 1468 sample steps, simulation time: 500.0\n",
      "result=3.137592669589458\n"
     ]
    }
   ],
   "source": [
    "@time setup(250)\n",
    "println(@time run!(𝐶, 500))\n",
    "println(\"result=\", sum(qpi))"
   ]
  },
  {
   "cell_type": "code",
   "execution_count": 10,
   "metadata": {},
   "outputs": [
    {
     "data": {
      "text/plain": [
       "BenchmarkTools.Trial: \n",
       "  memory estimate:  378.62 MiB\n",
       "  allocs estimate:  5964325\n",
       "  --------------\n",
       "  minimum time:     8.948 s (0.46% GC)\n",
       "  median time:      8.968 s (0.43% GC)\n",
       "  mean time:        8.968 s (0.43% GC)\n",
       "  maximum time:     8.988 s (0.39% GC)\n",
       "  --------------\n",
       "  samples:          2\n",
       "  evals/sample:     1"
      ]
     },
     "execution_count": 10,
     "metadata": {},
     "output_type": "execute_result"
    }
   ],
   "source": [
    "t = run(@benchmarkable run!(𝐶, 500) setup=setup(250) evals=1 seconds=15.0 samples=50)"
   ]
  },
  {
   "cell_type": "code",
   "execution_count": 11,
   "metadata": {},
   "outputs": [
    {
     "data": {
      "text/plain": [
       "Dict{Any,Any} with 2 entries:\n",
       "  \"Event based with fun\"         => 26.8476\n",
       "  \"Event based with Expressions\" => 8947.51"
      ]
     },
     "execution_count": 11,
     "metadata": {},
     "output_type": "execute_result"
    }
   ],
   "source": [
    "res[\"Event based with Expressions\"] = minimum(t).time * 1e-6 #\n",
    "res"
   ]
  },
  {
   "cell_type": "code",
   "execution_count": 13,
   "metadata": {},
   "outputs": [
    {
     "data": {
      "text/plain": [
       "333.2699188055384"
      ]
     },
     "execution_count": 13,
     "metadata": {},
     "output_type": "execute_result"
    }
   ],
   "source": [
    "res[\"Event based with Expressions\"]/res[\"Event based with fun\"]"
   ]
  },
  {
   "cell_type": "markdown",
   "metadata": {},
   "source": [
    "This takes much longer and shows that `eval` for Julia expressions, done in global scope is very expensive and should be avoided if performance is any issue."
   ]
  },
  {
   "cell_type": "markdown",
   "metadata": {},
   "source": [
    "### Involving a global variable\n",
    "\n",
    "The third implementation works with `fun`s like the first but involves a global variable `A`:"
   ]
  },
  {
   "cell_type": "code",
   "execution_count": 14,
   "metadata": {},
   "outputs": [
    {
     "data": {
      "text/plain": [
       "setup (generic function with 1 method)"
      ]
     },
     "execution_count": 14,
     "metadata": {},
     "output_type": "execute_result"
    }
   ],
   "source": [
    "function take(id::Int64, qpi::Vector{Float64}, step::Int64)\n",
    "    if isready(ch)\n",
    "        take!(ch)                                       # take something from common channel\n",
    "        event!(fun(put, id, qpi, step), after, rand())    # timed event after some time\n",
    "    else\n",
    "        event!(fun(take, id, qpi, step), fun(isready, ch)) # conditional event until channel is ready\n",
    "    end\n",
    "end\n",
    "\n",
    "function put(id::Int64, qpi::Vector{Float64}, step::Int64)\n",
    "    put!(ch, 1)\n",
    "    global A += (-1)^(id+1)/(2id -1)      # Machin-like series (slow approximation to pi)\n",
    "    step > 3 || take(id, qpi, step+1)\n",
    "end\n",
    "\n",
    "function setup(n::Int)                     # a setup he simulation\n",
    "    resetClock!(𝐶)\n",
    "    Random.seed!(123)\n",
    "    global ch = Channel{Int64}(32)  # create a channel\n",
    "    global A = 0\n",
    "    si = shuffle(1:n)\n",
    "    for i in 1:n\n",
    "        take(si[i], qpi, 1)\n",
    "    end\n",
    "    for i in 1:min(n, 32)\n",
    "        put!(ch, 1) # put first tokens into channel 1\n",
    "    end\n",
    "end"
   ]
  },
  {
   "cell_type": "code",
   "execution_count": 15,
   "metadata": {},
   "outputs": [
    {
     "name": "stdout",
     "output_type": "stream",
     "text": [
      "Variables\n",
      "  #self#\u001b[36m::Core.Compiler.Const(put, false)\u001b[39m\n",
      "  id\u001b[36m::Int64\u001b[39m\n",
      "  qpi\u001b[36m::Array{Float64,1}\u001b[39m\n",
      "  step\u001b[36m::Int64\u001b[39m\n",
      "\n",
      "Body\u001b[33m\u001b[1m::Union{Nothing, Bool, DiscreteEvents.Register{DiscreteEvents.DiscreteEvent{DiscreteEvents.var\"#7#8\"{typeof(put)},Nothing}}}\u001b[22m\u001b[39m\n",
      "\u001b[90m1 ─\u001b[39m       Main.put!(Main.ch, 1)\n",
      "\u001b[90m│  \u001b[39m       nothing\n",
      "\u001b[90m│  \u001b[39m %3  = (id + 1)\u001b[36m::Int64\u001b[39m\n",
      "\u001b[90m│  \u001b[39m %4  = ((-1) ^ %3)\u001b[36m::Int64\u001b[39m\n",
      "\u001b[90m│  \u001b[39m %5  = (2 * id)\u001b[36m::Int64\u001b[39m\n",
      "\u001b[90m│  \u001b[39m %6  = (%5 - 1)\u001b[36m::Int64\u001b[39m\n",
      "\u001b[90m│  \u001b[39m %7  = (%4 / %6)\u001b[36m::Float64\u001b[39m\n",
      "\u001b[90m│  \u001b[39m %8  = (Main.A + %7)\u001b[91m\u001b[1m::Any\u001b[22m\u001b[39m\n",
      "\u001b[90m│  \u001b[39m       (Main.A = %8)\n",
      "\u001b[90m│  \u001b[39m %10 = (step > 3)\u001b[36m::Bool\u001b[39m\n",
      "\u001b[90m└──\u001b[39m       goto #3 if not %10\n",
      "\u001b[90m2 ─\u001b[39m       return %10\n",
      "\u001b[90m3 ─\u001b[39m %13 = (step + 1)\u001b[36m::Int64\u001b[39m\n",
      "\u001b[90m│  \u001b[39m %14 = Main.take(id, qpi, %13)\u001b[33m\u001b[1m::Union{Nothing, DiscreteEvents.Register{DiscreteEvents.DiscreteEvent{DiscreteEvents.var\"#7#8\"{typeof(put)},Nothing}}}\u001b[22m\u001b[39m\n",
      "\u001b[90m└──\u001b[39m       return %14\n"
     ]
    }
   ],
   "source": [
    "ch = Channel{Int64}(32)\n",
    "@code_warntype put(1, qpi, 1)"
   ]
  },
  {
   "cell_type": "code",
   "execution_count": 16,
   "metadata": {},
   "outputs": [
    {
     "name": "stdout",
     "output_type": "stream",
     "text": [
      "  0.000171 seconds (2.29 k allocations: 64.609 KiB)\n",
      "  0.040990 seconds (207.64 k allocations: 10.937 MiB)\n",
      "run! finished with 1000 clock events, 1468 sample steps, simulation time: 500.0\n",
      "result=3.137592669589458\n"
     ]
    }
   ],
   "source": [
    "@time setup(250)\n",
    "println(@time run!(𝐶, 500))\n",
    "println(\"result=\", A)"
   ]
  },
  {
   "cell_type": "code",
   "execution_count": 17,
   "metadata": {},
   "outputs": [
    {
     "data": {
      "text/plain": [
       "BenchmarkTools.Trial: \n",
       "  memory estimate:  10.48 MiB\n",
       "  allocs estimate:  198603\n",
       "  --------------\n",
       "  minimum time:     27.621 ms (0.00% GC)\n",
       "  median time:      29.558 ms (0.00% GC)\n",
       "  mean time:        29.853 ms (1.90% GC)\n",
       "  maximum time:     39.512 ms (0.00% GC)\n",
       "  --------------\n",
       "  samples:          30\n",
       "  evals/sample:     1"
      ]
     },
     "execution_count": 17,
     "metadata": {},
     "output_type": "execute_result"
    }
   ],
   "source": [
    "t = run(@benchmarkable run!(𝐶, 500) setup=setup(250) evals=1 seconds=10.0 samples=30)"
   ]
  },
  {
   "cell_type": "code",
   "execution_count": 18,
   "metadata": {},
   "outputs": [
    {
     "data": {
      "text/plain": [
       "Dict{Any,Any} with 3 entries:\n",
       "  \"Event based with fun\"                             => 26.8476\n",
       "  \"Event based with Expressions\"                     => 8947.51\n",
       "  \"Event based with functions and a global variable\" => 27.6208"
      ]
     },
     "execution_count": 18,
     "metadata": {},
     "output_type": "execute_result"
    }
   ],
   "source": [
    "res[\"Event based with functions and a global variable\"] = minimum(t).time * 1e-6 #\n",
    "res"
   ]
  },
  {
   "cell_type": "markdown",
   "metadata": {},
   "source": [
    "In this case the compiler does well to infer the type of `A` and it runs only marginally slower than the first version."
   ]
  },
  {
   "cell_type": "code",
   "execution_count": null,
   "metadata": {},
   "outputs": [],
   "source": []
  }
 ],
 "metadata": {
  "@webio": {
   "lastCommId": null,
   "lastKernelId": null
  },
  "kernelspec": {
   "display_name": "Julia 1.5.0",
   "language": "julia",
   "name": "julia-1.5"
  },
  "language_info": {
   "file_extension": ".jl",
   "mimetype": "application/julia",
   "name": "julia",
   "version": "1.5.1"
  }
 },
 "nbformat": 4,
 "nbformat_minor": 2
}
