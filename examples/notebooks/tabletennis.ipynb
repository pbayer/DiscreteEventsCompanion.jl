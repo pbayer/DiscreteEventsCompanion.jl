{
 "cells": [
  {
   "cell_type": "markdown",
   "metadata": {},
   "source": [
    "# Table tennis simulation\n",
    "\n",
    "This example shows the usage of `DiscreteEvents.jl` with event driven state machines.\n",
    "\n",
    "We implement players as timed state machines and thus need definitions of states and events and some data describing the players:"
   ]
  },
  {
   "cell_type": "code",
   "execution_count": 1,
   "metadata": {},
   "outputs": [],
   "source": [
    "using DiscreteEvents, Random, Printf\n",
    "\n",
    "abstract type PState end\n",
    "struct Idle <: PState end\n",
    "struct Wait <: PState end\n",
    "struct Unalert <: PState end\n",
    "\n",
    "abstract type PEvent end\n",
    "struct Start <: PEvent end\n",
    "struct Serve <: PEvent end\n",
    "struct Return <: PEvent end\n",
    "struct Miss <: PEvent end\n",
    "\n",
    "mutable struct Player\n",
    "    name::AbstractString\n",
    "    opp::Union{Number,Player}\n",
    "    state::PState\n",
    "    accuracy::Float64\n",
    "    attentiveness::Float64\n",
    "    score::Int64\n",
    "\n",
    "    Player(name, acc, att) = new(name, 0, Idle(), acc, att, 0)\n",
    "end"
   ]
  },
  {
   "cell_type": "markdown",
   "metadata": {},
   "source": [
    "Then we define some physical facts and a function to randomize them:"
   ]
  },
  {
   "cell_type": "code",
   "execution_count": 2,
   "metadata": {},
   "outputs": [
    {
     "data": {
      "text/plain": [
       "rd (generic function with 1 method)"
      ]
     },
     "execution_count": 2,
     "metadata": {},
     "output_type": "execute_result"
    }
   ],
   "source": [
    "const dist = 3 # distance for ball to fly [m]\n",
    "const vs   = 10 # serve velocity [m/s]\n",
    "const vr   = 20 # return velocity [m/s]\n",
    "\n",
    "rd(s::Float64) = randn()*s + 1"
   ]
  },
  {
   "cell_type": "markdown",
   "metadata": {},
   "source": [
    "Next we must describe the behaviour of our players. They are modeled as finite state machines, which have known states and react to known events. This is done with the `step!` function. Julia's multiple dispatch allows to give multiple definitions of `step!` for different combinations of states and events.\n",
    "\n",
    "The `serve` and `ret`-functions, used for describing serving and return of players are used to randomize the time and the behaviour of players. The players thus act probabilistically as Markov automata."
   ]
  },
  {
   "cell_type": "code",
   "execution_count": 3,
   "metadata": {},
   "outputs": [
    {
     "data": {
      "text/plain": [
       "ret (generic function with 1 method)"
      ]
     },
     "execution_count": 3,
     "metadata": {},
     "output_type": "execute_result"
    }
   ],
   "source": [
    "function init!(p::Player, opp::Player)\n",
    "    p.opp = opp\n",
    "    p.state = rand() ≤ p.attentiveness ? Wait() : p.state = Unalert()\n",
    "end\n",
    "\n",
    "function serve(p::Player)\n",
    "    ts = 3 + dist*rd(0.15)/(vs*rd(0.25))\n",
    "    if (rand() ≤ p.accuracy) && (p.state == Wait())\n",
    "        event!(fun(step!, p.opp, Serve()), after, ts)\n",
    "        @printf(\"%5.2f: %s serves %s\\n\", tau()+ts, p.name, p.opp.name)\n",
    "    else\n",
    "        event!(fun(step!, p.opp, Miss()), after, ts)\n",
    "        @printf(\"%5.2f: %s serves and misses %s\\n\", tau()+ts, p.name, p.opp.name)\n",
    "    end\n",
    "    rand() ≥ p.attentiveness && (p.state = Unalert())\n",
    "end\n",
    "\n",
    "function ret(p::Player)\n",
    "    tr = dist*rd(0.15)/(vr*rd(0.25))\n",
    "    if rand() ≤ p.accuracy\n",
    "        event!(fun(step!, p.opp, Return()), after, tr)\n",
    "        @printf(\"%5.2f: %s returns %s\\n\", tau()+tr, p.name, p.opp.name)\n",
    "    else\n",
    "        event!(fun(step!, p.opp, Miss()), after, tr)\n",
    "        @printf(\"%5.2f: %s returns and misses %s\\n\", tau()+tr, p.name, p.opp.name)\n",
    "    end\n",
    "    rand() ≥ p.attentiveness && (p.state = Unalert())\n",
    "end"
   ]
  },
  {
   "cell_type": "markdown",
   "metadata": {},
   "source": [
    "The actual behaviour of a player is implemented as a state machine via the `step!`--function."
   ]
  },
  {
   "cell_type": "code",
   "execution_count": 4,
   "metadata": {},
   "outputs": [
    {
     "data": {
      "text/plain": [
       "step!"
      ]
     },
     "execution_count": 4,
     "metadata": {},
     "output_type": "execute_result"
    }
   ],
   "source": [
    "\"default transition for players\"\n",
    "step!(p::Player, q::PState, σ::PEvent) =\n",
    "        println(\"undefined transition for $(p.name), $q, $σ\")\n",
    "\n",
    "\"player p gets a start command\"\n",
    "step!(p::Player, ::Union{Wait, Unalert}, ::Start) = serve(p)\n",
    "\n",
    "\"player p is waiting and gets served or returned\"\n",
    "step!(p::Player, ::Wait, ::Union{Serve, Return}) = ret(p)\n",
    "\n",
    "\"player p is unalert and gets served or returned\"\n",
    "function step!(p::Player, ::Unalert, ::Union{Serve, Return})\n",
    "    @printf(\"%5.2f: %s looses ball\\n\", tau(), p.name)\n",
    "    p.opp.score += 1\n",
    "    p.state = Wait()\n",
    "    serve(p)\n",
    "end\n",
    "\n",
    "\"player p is waiting or unalert and gets missed\"\n",
    "function step!(p::Player, ::Union{Wait, Unalert}, ::Miss)\n",
    "    p.score += 1\n",
    "    p.state = Wait()\n",
    "    serve(p)\n",
    "end\n",
    "\n",
    "\"simplified `step!` call\"\n",
    "step!(p::Player, σ::PEvent) = step!(p, p.state, σ)"
   ]
  },
  {
   "cell_type": "markdown",
   "metadata": {},
   "source": [
    "In order to setup a simulation, we have to create and initialize the players, to start and run the game:"
   ]
  },
  {
   "cell_type": "code",
   "execution_count": 5,
   "metadata": {},
   "outputs": [
    {
     "name": "stdout",
     "output_type": "stream",
     "text": [
      " 3.24: Ping serves Pong\n",
      " 3.36: Pong returns Ping\n",
      " 3.53: Ping returns Pong\n",
      " 3.69: Pong returns Ping\n",
      " 3.81: Ping returns Pong\n",
      " 3.99: Pong returns Ping\n",
      " 4.11: Ping returns Pong\n",
      " 4.22: Pong returns Ping\n",
      " 4.33: Ping returns Pong\n",
      " 4.42: Pong returns Ping\n",
      " 4.56: Ping returns Pong\n",
      " 4.70: Pong returns Ping\n",
      " 4.87: Ping returns Pong\n",
      " 4.99: Pong returns Ping\n",
      " 5.13: Ping returns Pong\n",
      " 5.30: Pong returns Ping\n",
      " 5.52: Ping returns Pong\n",
      " 5.71: Pong returns Ping\n",
      " 5.80: Ping returns Pong\n",
      " 6.43: Pong returns Ping\n",
      " 6.58: Ping returns Pong\n",
      " 6.66: Pong returns Ping\n",
      " 6.82: Ping returns Pong\n",
      " 6.94: Pong returns Ping\n",
      " 7.06: Ping returns Pong\n",
      " 7.26: Pong returns Ping\n",
      " 7.43: Ping returns and misses Pong\n",
      "10.63: Pong serves and misses Ping\n",
      "13.91: Ping serves Pong\n",
      "14.08: Pong returns and misses Ping\n",
      "17.38: Ping serves Pong\n",
      "17.52: Pong returns Ping\n",
      "17.64: Ping returns Pong\n",
      "17.76: Pong returns Ping\n",
      "18.04: Ping returns Pong\n",
      "18.19: Pong returns Ping\n",
      "18.35: Ping returns Pong\n",
      "18.44: Pong returns Ping\n",
      "18.44: Ping looses ball\n",
      "21.72: Ping serves Pong\n",
      "21.92: Pong returns Ping\n",
      "22.05: Ping returns Pong\n",
      "22.16: Pong returns Ping\n",
      "22.32: Ping returns Pong\n",
      "22.32: Pong looses ball\n",
      "25.68: Pong serves Ping\n",
      "25.79: Ping returns Pong\n",
      "26.02: Pong returns Ping\n",
      "26.24: Ping returns Pong\n",
      "26.24: Pong looses ball\n",
      "29.59: Pong serves Ping\n",
      "29.69: Ping returns Pong\n",
      "29.80: Pong returns Ping\n",
      "29.91: Ping returns Pong\n",
      "30.05: Pong returns Ping\n",
      "run! finished with 51 clock events, 0 sample steps, simulation time: 30.0\n",
      "Ping scored 4\n",
      "Pong scored 2\n"
     ]
    }
   ],
   "source": [
    "ping = Player(\"Ping\", 0.90, 0.90)\n",
    "pong = Player(\"Pong\", 0.90, 0.90)\n",
    "init!(ping, pong)\n",
    "init!(pong, ping)\n",
    "step!(ping, Start())\n",
    "\n",
    "Random.seed!(123)\n",
    "\n",
    "println(run!(𝐶, 30))\n",
    "println(\"Ping scored $(ping.score)\")\n",
    "println(\"Pong scored $(pong.score)\")"
   ]
  },
  {
   "cell_type": "markdown",
   "metadata": {},
   "source": [
    "Finally we reset `𝐶` for further simulations."
   ]
  },
  {
   "cell_type": "code",
   "execution_count": 6,
   "metadata": {},
   "outputs": [
    {
     "data": {
      "text/plain": [
       "\"clock reset to t₀=0.0, sampling rate Δt=0.01.\""
      ]
     },
     "execution_count": 6,
     "metadata": {},
     "output_type": "execute_result"
    }
   ],
   "source": [
    "resetClock!(𝐶)"
   ]
  },
  {
   "cell_type": "code",
   "execution_count": null,
   "metadata": {},
   "outputs": [],
   "source": []
  }
 ],
 "metadata": {
  "@webio": {
   "lastCommId": null,
   "lastKernelId": null
  },
  "kernelspec": {
   "display_name": "Julia 1.5.0",
   "language": "julia",
   "name": "julia-1.5"
  },
  "language_info": {
   "file_extension": ".jl",
   "mimetype": "application/julia",
   "name": "julia",
   "version": "1.5.1"
  }
 },
 "nbformat": 4,
 "nbformat_minor": 2
}
