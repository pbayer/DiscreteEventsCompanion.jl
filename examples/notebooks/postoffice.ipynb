{
 "cells": [
  {
   "cell_type": "markdown",
   "metadata": {},
   "source": [
    "# A Post Office – A Real Life Story\n",
    "\n",
    "*Paul Bayer, 2020-09-14, v0.4*\n",
    "\n",
    "Let us begin with an everyday story: there is a small post office with one clerk serving the arriving customers. Customers have differing wishes leading to different serving times, from `1 - 5 minutes`. We have to add a little variation to serving times counting for variation in customer habits and clerk performance. The arrival rate of customers is about 18 per hour, every `3.33 minutes` or `3 minutes, 20 seconds` on average. Our post office is small and customer patience is limited, so queue length is limited to 5 customers. \n",
    "\n",
    "We have provided 10% extra capacity, so our expectation is that there should not be too many customers discouraged for long waiting times or for full queues.\n",
    "\n",
    "![post office](../../docs/src/img/PostOffice.png)\n",
    "\n",
    "Let's do a process-based simulation using [`DiscreteEvents`](https://github.com/pbayer/DiscreteEvents.jl). We need \n",
    "\n",
    "1. a source: all the **people**, providing an unlimited supply for customers,\n",
    "2. **customers** with their demands and their limited patience,\n",
    "3. a **queue** and\n",
    "4. our good old **clerk**."
   ]
  },
  {
   "cell_type": "markdown",
   "metadata": {},
   "source": [
    "First we must load the needed modules, describe a customer and define some needed helper functions. "
   ]
  },
  {
   "cell_type": "code",
   "execution_count": 1,
   "metadata": {},
   "outputs": [
    {
     "data": {
      "text/plain": [
       "logevent (generic function with 1 method)"
      ]
     },
     "execution_count": 1,
     "metadata": {},
     "output_type": "execute_result"
    }
   ],
   "source": [
    "using DiscreteEvents, Random, Distributions, DataFrames\n",
    "\n",
    "mutable struct Customer\n",
    "    id::Int64\n",
    "    arrival::Float64\n",
    "    request::Int64\n",
    "\n",
    "    Customer(n::Int64, arrival::Float64) = new(n, arrival, rand(DiscreteUniform(1, 5)))\n",
    "end\n",
    "\n",
    "full(q::Channel) = length(q.data) >= q.sz_max\n",
    "logevent(nr, queue::Channel, info::AbstractString, wt::Number) =\n",
    "    push!(df, (round(tau(), digits=2), nr, length(queue.data), info, wt))"
   ]
  },
  {
   "cell_type": "markdown",
   "metadata": {},
   "source": [
    "Then we define functions for our processes: people and clerk."
   ]
  },
  {
   "cell_type": "code",
   "execution_count": 2,
   "metadata": {},
   "outputs": [
    {
     "data": {
      "text/plain": [
       "clerk (generic function with 1 method)"
      ]
     },
     "execution_count": 2,
     "metadata": {},
     "output_type": "execute_result"
    }
   ],
   "source": [
    "function people(clk::Clock, output::Channel, β::Float64)\n",
    "    i = 1\n",
    "    while true\n",
    "        Δt = rand(Exponential(β))\n",
    "        delay!(clk, Δt)\n",
    "        if !full(output)\n",
    "            put!(output, Customer(i, tau(clk)))\n",
    "            logevent(i, output, \"enqueues\", 0)\n",
    "         else\n",
    "            logevent(i, output, \"leaves - queue is full!\", -1)\n",
    "        end\n",
    "        i += 1\n",
    "    end\n",
    "end\n",
    "\n",
    "function clerk(clk::Clock, input::Channel)\n",
    "    cust = take!(input)\n",
    "    Δt = cust.request + randn()*0.2\n",
    "    logevent(cust.id, input, \"now being served\", tau(clk) - cust.arrival)\n",
    "    delay!(clk, Δt)\n",
    "    logevent(cust.id, input, \"leaves\", tau(clk) - cust.arrival)\n",
    "end"
   ]
  },
  {
   "cell_type": "markdown",
   "metadata": {},
   "source": [
    "Then we have to create out data, register and startup the processes:"
   ]
  },
  {
   "cell_type": "code",
   "execution_count": 3,
   "metadata": {},
   "outputs": [
    {
     "data": {
      "text/plain": [
       "2"
      ]
     },
     "execution_count": 3,
     "metadata": {},
     "output_type": "execute_result"
    }
   ],
   "source": [
    "resetClock!(𝐶)  # for repeated runs it is easier if we reset our central clock here\n",
    "Random.seed!(2019)  # seed random number generator for reproducibility\n",
    "queue = Channel(5)  # thus we determine the max size of the queue\n",
    "\n",
    "df = DataFrame(time=Float64[], cust=Int[], qlen=Int64[], status=String[], wtime=Float64[])\n",
    "\n",
    "process!(Prc(1, people, queue, 3.333)) # register the functions as processes\n",
    "process!(Prc(2, clerk, queue))"
   ]
  },
  {
   "cell_type": "markdown",
   "metadata": {},
   "source": [
    "Then we can simply run the simulation. We assume our time unit being minutes, so we run for 600 units:"
   ]
  },
  {
   "cell_type": "code",
   "execution_count": 4,
   "metadata": {},
   "outputs": [
    {
     "name": "stdout",
     "output_type": "stream",
     "text": [
      "run! finished with 348 clock events, 0 sample steps, simulation time: 600.0\n",
      "0 customers yet in queue\n"
     ]
    }
   ],
   "source": [
    "println(run!(𝐶, 600))\n",
    "println(\"$(length(queue.data)) customers yet in queue\")"
   ]
  },
  {
   "cell_type": "markdown",
   "metadata": {},
   "source": [
    "Our table has registered it all:"
   ]
  },
  {
   "cell_type": "code",
   "execution_count": 5,
   "metadata": {},
   "outputs": [
    {
     "data": {
      "text/html": [
       "<table class=\"data-frame\"><thead><tr><th></th><th>time</th><th>cust</th><th>qlen</th><th>status</th><th>wtime</th></tr><tr><th></th><th>Float64</th><th>Int64</th><th>Int64</th><th>String</th><th>Float64</th></tr></thead><tbody><p>518 rows × 5 columns</p><tr><th>1</th><td>1.2</td><td>1</td><td>1</td><td>enqueues</td><td>0.0</td></tr><tr><th>2</th><td>1.2</td><td>1</td><td>0</td><td>now being served</td><td>0.0</td></tr><tr><th>3</th><td>2.42</td><td>1</td><td>0</td><td>leaves</td><td>1.22333</td></tr><tr><th>4</th><td>14.46</td><td>2</td><td>1</td><td>enqueues</td><td>0.0</td></tr><tr><th>5</th><td>14.46</td><td>2</td><td>0</td><td>now being served</td><td>0.0</td></tr><tr><th>6</th><td>15.33</td><td>2</td><td>0</td><td>leaves</td><td>0.869507</td></tr><tr><th>7</th><td>15.59</td><td>3</td><td>1</td><td>enqueues</td><td>0.0</td></tr><tr><th>8</th><td>15.59</td><td>3</td><td>0</td><td>now being served</td><td>0.0</td></tr><tr><th>9</th><td>16.03</td><td>4</td><td>1</td><td>enqueues</td><td>0.0</td></tr><tr><th>10</th><td>17.8</td><td>3</td><td>1</td><td>leaves</td><td>2.20916</td></tr><tr><th>11</th><td>17.8</td><td>4</td><td>0</td><td>now being served</td><td>1.76564</td></tr><tr><th>12</th><td>23.05</td><td>4</td><td>0</td><td>leaves</td><td>7.01425</td></tr><tr><th>13</th><td>27.45</td><td>5</td><td>1</td><td>enqueues</td><td>0.0</td></tr><tr><th>14</th><td>27.45</td><td>5</td><td>0</td><td>now being served</td><td>0.0</td></tr><tr><th>15</th><td>27.5</td><td>6</td><td>1</td><td>enqueues</td><td>0.0</td></tr><tr><th>16</th><td>30.71</td><td>7</td><td>2</td><td>enqueues</td><td>0.0</td></tr><tr><th>17</th><td>32.32</td><td>5</td><td>2</td><td>leaves</td><td>4.86645</td></tr><tr><th>18</th><td>32.32</td><td>6</td><td>1</td><td>now being served</td><td>4.81794</td></tr><tr><th>19</th><td>35.49</td><td>6</td><td>1</td><td>leaves</td><td>7.99158</td></tr><tr><th>20</th><td>35.49</td><td>7</td><td>0</td><td>now being served</td><td>4.77958</td></tr><tr><th>21</th><td>35.73</td><td>8</td><td>1</td><td>enqueues</td><td>0.0</td></tr><tr><th>22</th><td>37.47</td><td>9</td><td>2</td><td>enqueues</td><td>0.0</td></tr><tr><th>23</th><td>38.26</td><td>7</td><td>2</td><td>leaves</td><td>7.54359</td></tr><tr><th>24</th><td>38.26</td><td>8</td><td>1</td><td>now being served</td><td>2.5265</td></tr><tr><th>25</th><td>41.92</td><td>8</td><td>1</td><td>leaves</td><td>6.1911</td></tr><tr><th>26</th><td>41.92</td><td>9</td><td>0</td><td>now being served</td><td>4.44906</td></tr><tr><th>27</th><td>42.26</td><td>10</td><td>1</td><td>enqueues</td><td>0.0</td></tr><tr><th>28</th><td>44.22</td><td>9</td><td>1</td><td>leaves</td><td>6.74951</td></tr><tr><th>29</th><td>44.22</td><td>10</td><td>0</td><td>now being served</td><td>1.96307</td></tr><tr><th>30</th><td>45.62</td><td>11</td><td>1</td><td>enqueues</td><td>0.0</td></tr><tr><th>&vellip;</th><td>&vellip;</td><td>&vellip;</td><td>&vellip;</td><td>&vellip;</td><td>&vellip;</td></tr></tbody></table>"
      ],
      "text/latex": [
       "\\begin{tabular}{r|ccccc}\n",
       "\t& time & cust & qlen & status & wtime\\\\\n",
       "\t\\hline\n",
       "\t& Float64 & Int64 & Int64 & String & Float64\\\\\n",
       "\t\\hline\n",
       "\t1 & 1.2 & 1 & 1 & enqueues & 0.0 \\\\\n",
       "\t2 & 1.2 & 1 & 0 & now being served & 0.0 \\\\\n",
       "\t3 & 2.42 & 1 & 0 & leaves & 1.22333 \\\\\n",
       "\t4 & 14.46 & 2 & 1 & enqueues & 0.0 \\\\\n",
       "\t5 & 14.46 & 2 & 0 & now being served & 0.0 \\\\\n",
       "\t6 & 15.33 & 2 & 0 & leaves & 0.869507 \\\\\n",
       "\t7 & 15.59 & 3 & 1 & enqueues & 0.0 \\\\\n",
       "\t8 & 15.59 & 3 & 0 & now being served & 0.0 \\\\\n",
       "\t9 & 16.03 & 4 & 1 & enqueues & 0.0 \\\\\n",
       "\t10 & 17.8 & 3 & 1 & leaves & 2.20916 \\\\\n",
       "\t11 & 17.8 & 4 & 0 & now being served & 1.76564 \\\\\n",
       "\t12 & 23.05 & 4 & 0 & leaves & 7.01425 \\\\\n",
       "\t13 & 27.45 & 5 & 1 & enqueues & 0.0 \\\\\n",
       "\t14 & 27.45 & 5 & 0 & now being served & 0.0 \\\\\n",
       "\t15 & 27.5 & 6 & 1 & enqueues & 0.0 \\\\\n",
       "\t16 & 30.71 & 7 & 2 & enqueues & 0.0 \\\\\n",
       "\t17 & 32.32 & 5 & 2 & leaves & 4.86645 \\\\\n",
       "\t18 & 32.32 & 6 & 1 & now being served & 4.81794 \\\\\n",
       "\t19 & 35.49 & 6 & 1 & leaves & 7.99158 \\\\\n",
       "\t20 & 35.49 & 7 & 0 & now being served & 4.77958 \\\\\n",
       "\t21 & 35.73 & 8 & 1 & enqueues & 0.0 \\\\\n",
       "\t22 & 37.47 & 9 & 2 & enqueues & 0.0 \\\\\n",
       "\t23 & 38.26 & 7 & 2 & leaves & 7.54359 \\\\\n",
       "\t24 & 38.26 & 8 & 1 & now being served & 2.5265 \\\\\n",
       "\t25 & 41.92 & 8 & 1 & leaves & 6.1911 \\\\\n",
       "\t26 & 41.92 & 9 & 0 & now being served & 4.44906 \\\\\n",
       "\t27 & 42.26 & 10 & 1 & enqueues & 0.0 \\\\\n",
       "\t28 & 44.22 & 9 & 1 & leaves & 6.74951 \\\\\n",
       "\t29 & 44.22 & 10 & 0 & now being served & 1.96307 \\\\\n",
       "\t30 & 45.62 & 11 & 1 & enqueues & 0.0 \\\\\n",
       "\t$\\dots$ & $\\dots$ & $\\dots$ & $\\dots$ & $\\dots$ & $\\dots$ \\\\\n",
       "\\end{tabular}\n"
      ],
      "text/plain": [
       "518×5 DataFrame\n",
       "│ Row │ time    │ cust  │ qlen  │ status           │ wtime    │\n",
       "│     │ \u001b[90mFloat64\u001b[39m │ \u001b[90mInt64\u001b[39m │ \u001b[90mInt64\u001b[39m │ \u001b[90mString\u001b[39m           │ \u001b[90mFloat64\u001b[39m  │\n",
       "├─────┼─────────┼───────┼───────┼──────────────────┼──────────┤\n",
       "│ 1   │ 1.2     │ 1     │ 1     │ enqueues         │ 0.0      │\n",
       "│ 2   │ 1.2     │ 1     │ 0     │ now being served │ 0.0      │\n",
       "│ 3   │ 2.42    │ 1     │ 0     │ leaves           │ 1.22333  │\n",
       "│ 4   │ 14.46   │ 2     │ 1     │ enqueues         │ 0.0      │\n",
       "│ 5   │ 14.46   │ 2     │ 0     │ now being served │ 0.0      │\n",
       "│ 6   │ 15.33   │ 2     │ 0     │ leaves           │ 0.869507 │\n",
       "│ 7   │ 15.59   │ 3     │ 1     │ enqueues         │ 0.0      │\n",
       "│ 8   │ 15.59   │ 3     │ 0     │ now being served │ 0.0      │\n",
       "│ 9   │ 16.03   │ 4     │ 1     │ enqueues         │ 0.0      │\n",
       "│ 10  │ 17.8    │ 3     │ 1     │ leaves           │ 2.20916  │\n",
       "⋮\n",
       "│ 508 │ 589.6   │ 177   │ 3     │ enqueues         │ 0.0      │\n",
       "│ 509 │ 589.86  │ 174   │ 3     │ leaves           │ 1.71137  │\n",
       "│ 510 │ 589.86  │ 175   │ 2     │ now being served │ 0.476658 │\n",
       "│ 511 │ 590.52  │ 175   │ 2     │ leaves           │ 1.13347  │\n",
       "│ 512 │ 590.52  │ 176   │ 1     │ now being served │ 1.0287   │\n",
       "│ 513 │ 592.49  │ 176   │ 1     │ leaves           │ 3.00479  │\n",
       "│ 514 │ 592.49  │ 177   │ 0     │ now being served │ 2.89088  │\n",
       "│ 515 │ 594.74  │ 178   │ 1     │ enqueues         │ 0.0      │\n",
       "│ 516 │ 595.95  │ 177   │ 1     │ leaves           │ 6.35064  │\n",
       "│ 517 │ 595.95  │ 178   │ 0     │ now being served │ 1.21605  │\n",
       "│ 518 │ 598.03  │ 178   │ 0     │ leaves           │ 3.29656  │"
      ]
     },
     "execution_count": 5,
     "metadata": {},
     "output_type": "execute_result"
    }
   ],
   "source": [
    "df"
   ]
  },
  {
   "cell_type": "code",
   "execution_count": 6,
   "metadata": {},
   "outputs": [
    {
     "data": {
      "text/html": [
       "<table class=\"data-frame\"><thead><tr><th></th><th>time</th><th>cust</th><th>qlen</th><th>status</th><th>wtime</th></tr><tr><th></th><th>Float64</th><th>Int64</th><th>Int64</th><th>String</th><th>Float64</th></tr></thead><tbody><p>5 rows × 5 columns</p><tr><th>1</th><td>592.49</td><td>177</td><td>0</td><td>now being served</td><td>2.89088</td></tr><tr><th>2</th><td>594.74</td><td>178</td><td>1</td><td>enqueues</td><td>0.0</td></tr><tr><th>3</th><td>595.95</td><td>177</td><td>1</td><td>leaves</td><td>6.35064</td></tr><tr><th>4</th><td>595.95</td><td>178</td><td>0</td><td>now being served</td><td>1.21605</td></tr><tr><th>5</th><td>598.03</td><td>178</td><td>0</td><td>leaves</td><td>3.29656</td></tr></tbody></table>"
      ],
      "text/latex": [
       "\\begin{tabular}{r|ccccc}\n",
       "\t& time & cust & qlen & status & wtime\\\\\n",
       "\t\\hline\n",
       "\t& Float64 & Int64 & Int64 & String & Float64\\\\\n",
       "\t\\hline\n",
       "\t1 & 592.49 & 177 & 0 & now being served & 2.89088 \\\\\n",
       "\t2 & 594.74 & 178 & 1 & enqueues & 0.0 \\\\\n",
       "\t3 & 595.95 & 177 & 1 & leaves & 6.35064 \\\\\n",
       "\t4 & 595.95 & 178 & 0 & now being served & 1.21605 \\\\\n",
       "\t5 & 598.03 & 178 & 0 & leaves & 3.29656 \\\\\n",
       "\\end{tabular}\n"
      ],
      "text/plain": [
       "5×5 DataFrame\n",
       "│ Row │ time    │ cust  │ qlen  │ status           │ wtime   │\n",
       "│     │ \u001b[90mFloat64\u001b[39m │ \u001b[90mInt64\u001b[39m │ \u001b[90mInt64\u001b[39m │ \u001b[90mString\u001b[39m           │ \u001b[90mFloat64\u001b[39m │\n",
       "├─────┼─────────┼───────┼───────┼──────────────────┼─────────┤\n",
       "│ 1   │ 592.49  │ 177   │ 0     │ now being served │ 2.89088 │\n",
       "│ 2   │ 594.74  │ 178   │ 1     │ enqueues         │ 0.0     │\n",
       "│ 3   │ 595.95  │ 177   │ 1     │ leaves           │ 6.35064 │\n",
       "│ 4   │ 595.95  │ 178   │ 0     │ now being served │ 1.21605 │\n",
       "│ 5   │ 598.03  │ 178   │ 0     │ leaves           │ 3.29656 │"
      ]
     },
     "execution_count": 6,
     "metadata": {},
     "output_type": "execute_result"
    }
   ],
   "source": [
    "last(df, 5)"
   ]
  },
  {
   "cell_type": "code",
   "execution_count": 7,
   "metadata": {},
   "outputs": [
    {
     "name": "stdout",
     "output_type": "stream",
     "text": [
      "Summary Stats:\n",
      "Length:         314\n",
      "Missing Count:  0\n",
      "Mean:           7.326661\n",
      "Minimum:        0.070575\n",
      "1st Quartile:   3.690368\n",
      "Median:         6.139574\n",
      "3rd Quartile:   9.958741\n",
      "Maximum:        23.627103\n",
      "Type:           Float64\n"
     ]
    }
   ],
   "source": [
    "describe(df[df[!, :wtime] .> 0, :wtime])"
   ]
  },
  {
   "cell_type": "markdown",
   "metadata": {},
   "source": [
    "In $600$ minutes simulation time, we registered $178$ customers and $518$ status changes. The mean and median waiting times were around $7$ minutes."
   ]
  },
  {
   "cell_type": "code",
   "execution_count": 8,
   "metadata": {},
   "outputs": [
    {
     "data": {
      "text/html": [
       "<table class=\"data-frame\"><thead><tr><th></th><th>status</th><th>x1</th></tr><tr><th></th><th>String</th><th>Int64</th></tr></thead><tbody><p>4 rows × 2 columns</p><tr><th>1</th><td>enqueues</td><td>170</td></tr><tr><th>2</th><td>now being served</td><td>170</td></tr><tr><th>3</th><td>leaves</td><td>170</td></tr><tr><th>4</th><td>leaves - queue is full!</td><td>8</td></tr></tbody></table>"
      ],
      "text/latex": [
       "\\begin{tabular}{r|cc}\n",
       "\t& status & x1\\\\\n",
       "\t\\hline\n",
       "\t& String & Int64\\\\\n",
       "\t\\hline\n",
       "\t1 & enqueues & 170 \\\\\n",
       "\t2 & now being served & 170 \\\\\n",
       "\t3 & leaves & 170 \\\\\n",
       "\t4 & leaves - queue is full! & 8 \\\\\n",
       "\\end{tabular}\n"
      ],
      "text/plain": [
       "4×2 DataFrame\n",
       "│ Row │ status                  │ x1    │\n",
       "│     │ \u001b[90mString\u001b[39m                  │ \u001b[90mInt64\u001b[39m │\n",
       "├─────┼─────────────────────────┼───────┤\n",
       "│ 1   │ enqueues                │ 170   │\n",
       "│ 2   │ now being served        │ 170   │\n",
       "│ 3   │ leaves                  │ 170   │\n",
       "│ 4   │ leaves - queue is full! │ 8     │"
      ]
     },
     "execution_count": 8,
     "metadata": {},
     "output_type": "execute_result"
    }
   ],
   "source": [
    "by(df, :status, df -> size(df, 1))"
   ]
  },
  {
   "cell_type": "markdown",
   "metadata": {},
   "source": [
    "Of the $178$ customers, $170$ of them participated in the whole process and were served, but $8$ left beforehand because the queue was full: "
   ]
  },
  {
   "cell_type": "code",
   "execution_count": 9,
   "metadata": {},
   "outputs": [
    {
     "data": {
      "text/html": [
       "<table class=\"data-frame\"><thead><tr><th></th><th>time</th><th>cust</th><th>qlen</th><th>status</th><th>wtime</th></tr><tr><th></th><th>Float64</th><th>Int64</th><th>Int64</th><th>String</th><th>Float64</th></tr></thead><tbody><p>8 rows × 5 columns</p><tr><th>1</th><td>134.96</td><td>36</td><td>5</td><td>leaves - queue is full!</td><td>-1.0</td></tr><tr><th>2</th><td>140.39</td><td>38</td><td>5</td><td>leaves - queue is full!</td><td>-1.0</td></tr><tr><th>3</th><td>166.69</td><td>47</td><td>5</td><td>leaves - queue is full!</td><td>-1.0</td></tr><tr><th>4</th><td>169.14</td><td>49</td><td>5</td><td>leaves - queue is full!</td><td>-1.0</td></tr><tr><th>5</th><td>169.2</td><td>50</td><td>5</td><td>leaves - queue is full!</td><td>-1.0</td></tr><tr><th>6</th><td>212.92</td><td>64</td><td>5</td><td>leaves - queue is full!</td><td>-1.0</td></tr><tr><th>7</th><td>237.76</td><td>72</td><td>5</td><td>leaves - queue is full!</td><td>-1.0</td></tr><tr><th>8</th><td>575.38</td><td>172</td><td>5</td><td>leaves - queue is full!</td><td>-1.0</td></tr></tbody></table>"
      ],
      "text/latex": [
       "\\begin{tabular}{r|ccccc}\n",
       "\t& time & cust & qlen & status & wtime\\\\\n",
       "\t\\hline\n",
       "\t& Float64 & Int64 & Int64 & String & Float64\\\\\n",
       "\t\\hline\n",
       "\t1 & 134.96 & 36 & 5 & leaves - queue is full! & -1.0 \\\\\n",
       "\t2 & 140.39 & 38 & 5 & leaves - queue is full! & -1.0 \\\\\n",
       "\t3 & 166.69 & 47 & 5 & leaves - queue is full! & -1.0 \\\\\n",
       "\t4 & 169.14 & 49 & 5 & leaves - queue is full! & -1.0 \\\\\n",
       "\t5 & 169.2 & 50 & 5 & leaves - queue is full! & -1.0 \\\\\n",
       "\t6 & 212.92 & 64 & 5 & leaves - queue is full! & -1.0 \\\\\n",
       "\t7 & 237.76 & 72 & 5 & leaves - queue is full! & -1.0 \\\\\n",
       "\t8 & 575.38 & 172 & 5 & leaves - queue is full! & -1.0 \\\\\n",
       "\\end{tabular}\n"
      ],
      "text/plain": [
       "8×5 DataFrame\n",
       "│ Row │ time    │ cust  │ qlen  │ status                  │ wtime   │\n",
       "│     │ \u001b[90mFloat64\u001b[39m │ \u001b[90mInt64\u001b[39m │ \u001b[90mInt64\u001b[39m │ \u001b[90mString\u001b[39m                  │ \u001b[90mFloat64\u001b[39m │\n",
       "├─────┼─────────┼───────┼───────┼─────────────────────────┼─────────┤\n",
       "│ 1   │ 134.96  │ 36    │ 5     │ leaves - queue is full! │ -1.0    │\n",
       "│ 2   │ 140.39  │ 38    │ 5     │ leaves - queue is full! │ -1.0    │\n",
       "│ 3   │ 166.69  │ 47    │ 5     │ leaves - queue is full! │ -1.0    │\n",
       "│ 4   │ 169.14  │ 49    │ 5     │ leaves - queue is full! │ -1.0    │\n",
       "│ 5   │ 169.2   │ 50    │ 5     │ leaves - queue is full! │ -1.0    │\n",
       "│ 6   │ 212.92  │ 64    │ 5     │ leaves - queue is full! │ -1.0    │\n",
       "│ 7   │ 237.76  │ 72    │ 5     │ leaves - queue is full! │ -1.0    │\n",
       "│ 8   │ 575.38  │ 172   │ 5     │ leaves - queue is full! │ -1.0    │"
      ]
     },
     "execution_count": 9,
     "metadata": {},
     "output_type": "execute_result"
    }
   ],
   "source": [
    "df[df.wtime .< 0,:]"
   ]
  },
  {
   "cell_type": "code",
   "execution_count": 10,
   "metadata": {},
   "outputs": [
    {
     "data": {
      "image/png": "[encoded data removed]",
      "text/plain": [
       "Figure(PyObject <Figure size 640x480 with 1 Axes>)"
      ]
     },
     "metadata": {},
     "output_type": "display_data"
    }
   ],
   "source": [
    "using PyPlot\n",
    "step(df.time, df.wtime)\n",
    "step(df.time, df.qlen)\n",
    "axhline(y=0, color=\"k\")\n",
    "grid()\n",
    "xlabel(\"time [min]\")\n",
    "ylabel(\"wait time [min], queue length\")\n",
    "title(\"Waiting Time in the Post Office\")\n",
    "legend([\"wait_time\", \"queue_len\"]);"
   ]
  },
  {
   "cell_type": "markdown",
   "metadata": {},
   "source": [
    "Many customers had waiting times of more than 10, 15 up to even more than 20 minutes. The negative waiting times were the 5 customers, which left because the queue was full.\n",
    "\n",
    "So many customers will remain angry. If this is the situation all days, our post office will have an evil reputation. What should we do?\n",
    "\n",
    "## Conclusion\n",
    "\n",
    "Even if our process runs within predetermined bounds (queue length, customer wishes …), it seems to fluctuate wildly and to produce unpredicted effects. We see here the **effects of variation** in arrivals, in demands and in serving time on system performance. In this case 10% extra capacity is not enough to provide enough buffer for variation and for customer service – even if our post clerk is the most willing person.\n",
    "\n",
    "Even for such a simple everyday system, we cannot say beforehand – without reality check – which throughput, waiting times, mean queue length, capacity utilization or customer satisfaction will emerge. Even more so for more complicated systems in production, service, projects and supply chains with multiple dependencies.\n",
    "\n",
    "If we had known the situation beforehand, we could have provided standby for our clerk or install an automatic stamp dispenser for cutting the short tasks … \n",
    "\n",
    "We should have done a simulation. We should have known `DiscreteEvents` before …  😄"
   ]
  },
  {
   "cell_type": "code",
   "execution_count": null,
   "metadata": {},
   "outputs": [],
   "source": []
  }
 ],
 "metadata": {
  "@webio": {
   "lastCommId": null,
   "lastKernelId": null
  },
  "kernelspec": {
   "display_name": "Julia 1.5.0",
   "language": "julia",
   "name": "julia-1.5"
  },
  "language_info": {
   "file_extension": ".jl",
   "mimetype": "application/julia",
   "name": "julia",
   "version": "1.5.1"
  }
 },
 "nbformat": 4,
 "nbformat_minor": 2
}
